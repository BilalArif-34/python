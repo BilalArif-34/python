{
 "cells": [
  {
   "cell_type": "code",
   "execution_count": 5,
   "metadata": {},
   "outputs": [
    {
     "name": "stdout",
     "output_type": "stream",
     "text": [
      "[1, 9, 25, 81, 100, 16]\n",
      "1\n",
      "9\n",
      "25\n",
      "81\n",
      "100\n",
      "16\n",
      "False\n",
      "[10, 4]\n"
     ]
    }
   ],
   "source": [
    "# def square(num): return num ** 2\n",
    "square =  lambda num: num ** 2\n",
    "# result = square(3)\n",
    "# print(result)\n",
    "\n",
    "numbers = [1,3,5,9,10,4]\n",
    "\n",
    "#  map(): function iterates through a all items in the given iterable and executes a function which we passed as an argument.\n",
    "\n",
    "result = list(map(square, numbers))                                # result = list(map(lambda num: num ** 2, numbers))\n",
    "print(result)\n",
    "\n",
    "for item in map(square, numbers):\n",
    "    print(item)\n",
    "\n",
    "\n",
    "\n",
    "\n",
    "check_even = lambda num: num%2==0\n",
    "result = check_even(numbers[2])\n",
    "print(result)\n",
    "\n",
    "# filter(): formats a new list that contains elements which satisfy specific condition. \n",
    "result = list(filter(check_even, numbers))                          # result = list(filter(lambda num: num%2==0, numbers))\n",
    "print(result)\n",
    "\n",
    "\n",
    "\n",
    "\n",
    "\n",
    "\n"
   ]
  }
 ],
 "metadata": {
  "kernelspec": {
   "display_name": "base",
   "language": "python",
   "name": "python3"
  },
  "language_info": {
   "codemirror_mode": {
    "name": "ipython",
    "version": 3
   },
   "file_extension": ".py",
   "mimetype": "text/x-python",
   "name": "python",
   "nbconvert_exporter": "python",
   "pygments_lexer": "ipython3",
   "version": "3.8.3"
  }
 },
 "nbformat": 4,
 "nbformat_minor": 2
}
