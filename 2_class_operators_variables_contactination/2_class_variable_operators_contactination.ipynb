{
 "cells": [
  {
   "cell_type": "markdown",
   "metadata": {},
   "source": [
    "Operation\n",
    "\n",
    "    * oprand\n",
    "    * operators"
   ]
  },
  {
   "cell_type": "code",
   "execution_count": 1,
   "metadata": {},
   "outputs": [
    {
     "name": "stdout",
     "output_type": "stream",
     "text": [
      "7\n"
     ]
    }
   ],
   "source": [
    "print(5 + 2)"
   ]
  },
  {
   "cell_type": "code",
   "execution_count": 2,
   "metadata": {},
   "outputs": [
    {
     "name": "stdout",
     "output_type": "stream",
     "text": [
      "3\n"
     ]
    }
   ],
   "source": [
    "print( 5 - 2 )"
   ]
  },
  {
   "cell_type": "code",
   "execution_count": 4,
   "metadata": {},
   "outputs": [
    {
     "name": "stdout",
     "output_type": "stream",
     "text": [
      "10\n"
     ]
    }
   ],
   "source": [
    "print( 5 * 2)"
   ]
  },
  {
   "cell_type": "code",
   "execution_count": 5,
   "metadata": {},
   "outputs": [
    {
     "name": "stdout",
     "output_type": "stream",
     "text": [
      "2.5\n"
     ]
    }
   ],
   "source": [
    "print(5/2) # float"
   ]
  },
  {
   "cell_type": "code",
   "execution_count": 6,
   "metadata": {},
   "outputs": [
    {
     "name": "stdout",
     "output_type": "stream",
     "text": [
      "25\n"
     ]
    }
   ],
   "source": [
    "print(5**2) #power"
   ]
  },
  {
   "cell_type": "code",
   "execution_count": 7,
   "metadata": {},
   "outputs": [
    {
     "name": "stdout",
     "output_type": "stream",
     "text": [
      "2\n"
     ]
    }
   ],
   "source": [
    "print(5//2) # floor division"
   ]
  },
  {
   "cell_type": "code",
   "execution_count": 8,
   "metadata": {},
   "outputs": [
    {
     "name": "stdout",
     "output_type": "stream",
     "text": [
      "3\n"
     ]
    }
   ],
   "source": [
    "print(7//2)"
   ]
  },
  {
   "cell_type": "code",
   "execution_count": 9,
   "metadata": {},
   "outputs": [
    {
     "name": "stdout",
     "output_type": "stream",
     "text": [
      "2\n"
     ]
    }
   ],
   "source": [
    "print(11 % 3) # modulus"
   ]
  },
  {
   "cell_type": "markdown",
   "metadata": {},
   "source": [
    "#### **Precedence and Associativity of Operators**\n",
    "\n",
    "Operator precedence follows the BEDMAS rule.\n",
    "which tell us which operator comes first:\n",
    "\n",
    "- B= Bracket\n",
    "- E = Exponentiation\n",
    "- D = Division\n",
    "- M = Multiplication\n",
    "- A = Addition\n",
    "- S = Subtraction\n",
    "\n",
    "\n",
    "**Operator Associativity**\n",
    "\n",
    " * If an expression contains two or more operators with the same precedence then Operator Associativity is used to determine. It can either be Left to Right or from Right to Left.\n",
    " \n",
    "\n",
    "\n",
    "\n"
   ]
  },
  {
   "cell_type": "code",
   "execution_count": 6,
   "metadata": {},
   "outputs": [
    {
     "name": "stdout",
     "output_type": "stream",
     "text": [
      "512\n",
      "2\n"
     ]
    }
   ],
   "source": [
    "16 - 2 * 5 // 3 + 1\n",
    "\n",
    "# Note: Exponent operator ** has right-to-left associativity in Python.\n",
    "# Shows the right-left associativity of **\n",
    "# Output: 512, Since 2**(3**2) = 2**9\n",
    "print(2 ** 3 ** 2)\n",
    "\n",
    "print(11//2%3)    # left-to-right associativity apply here"
   ]
  },
  {
   "cell_type": "markdown",
   "metadata": {},
   "source": [
    "#### = equal operator \n",
    "assign any value to variable (placeholder)\n",
    "syntax:\n",
    "\n",
    "``` variable_name = value ```\n",
    "\n",
    "* value any data type"
   ]
  },
  {
   "cell_type": "code",
   "execution_count": 9,
   "metadata": {},
   "outputs": [
    {
     "name": "stdout",
     "output_type": "stream",
     "text": [
      "Gov't High School\n",
      "Pre_Eng\n",
      "Muhammad Bilal\n",
      "9 am to 12 pm\n"
     ]
    }
   ],
   "source": [
    "school = \"Gov't High School\"\n",
    "batch = \"Pre_Eng\"\n",
    "teacher = \"Muhammad Bilal\"\n",
    "timing = \"9 am to 12 pm\"\n",
    "\n",
    "\n",
    "print(school)\n",
    "print(batch)\n",
    "print(teacher)\n",
    "print(timing)\n"
   ]
  },
  {
   "cell_type": "code",
   "execution_count": 18,
   "metadata": {},
   "outputs": [
    {
     "name": "stdout",
     "output_type": "stream",
     "text": [
      "139680744984880\n",
      "139680744987440\n",
      "139680745070704\n",
      "139680745070640\n"
     ]
    }
   ],
   "source": [
    "print(id(school))\n",
    "print(id(batch))\n",
    "print(id(teacher))\n",
    "print(id(timing))"
   ]
  },
  {
   "cell_type": "markdown",
   "metadata": {},
   "source": [
    "# use some pre-define functions\n",
    "* print()\n",
    "* type()\n",
    "* id()\n",
    "* len()"
   ]
  },
  {
   "cell_type": "code",
   "execution_count": 10,
   "metadata": {},
   "outputs": [
    {
     "name": "stdout",
     "output_type": "stream",
     "text": [
      "<class 'str'>\n",
      "2806831618928\n",
      "14\n"
     ]
    }
   ],
   "source": [
    "name = \"Muhammad Bilal\"\n",
    "print(type(name)) # data type \n",
    "print(id(name)) # memory address\n",
    "print(len(name)) # length (count number of character)\n"
   ]
  },
  {
   "cell_type": "code",
   "execution_count": 20,
   "metadata": {},
   "outputs": [
    {
     "name": "stdout",
     "output_type": "stream",
     "text": [
      "2806832653744\n",
      "2806832652528\n"
     ]
    }
   ],
   "source": [
    "name = \"Muhammad Bilal\"\n",
    "teacher_name = \"Muhammad Qasim\"\n",
    "\n",
    "print(id(name))\n",
    "print(id(teacher_name))"
   ]
  },
  {
   "cell_type": "code",
   "execution_count": 20,
   "metadata": {},
   "outputs": [
    {
     "name": "stdout",
     "output_type": "stream",
     "text": [
      "139680739921136\n",
      "139680739921136\n"
     ]
    }
   ],
   "source": [
    "a = \"Pakistan\"\n",
    "b = \"Pakistan\"\n",
    "\n",
    "print(id(a))\n",
    "print(id(b))"
   ]
  },
  {
   "cell_type": "code",
   "execution_count": null,
   "metadata": {},
   "outputs": [],
   "source": []
  }
 ],
 "metadata": {
  "kernelspec": {
   "display_name": "Python 3.8.3 ('base')",
   "language": "python",
   "name": "python3"
  },
  "language_info": {
   "codemirror_mode": {
    "name": "ipython",
    "version": 3
   },
   "file_extension": ".py",
   "mimetype": "text/x-python",
   "name": "python",
   "nbconvert_exporter": "python",
   "pygments_lexer": "ipython3",
   "version": "3.8.3"
  },
  "vscode": {
   "interpreter": {
    "hash": "40e7fd87be866a820be9a91eb0fa2276c412de6ebacf4a1baccc71ffce6225f8"
   }
  }
 },
 "nbformat": 4,
 "nbformat_minor": 4
}
