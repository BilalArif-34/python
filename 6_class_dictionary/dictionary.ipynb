{
 "cells": [
  {
   "cell_type": "markdown",
   "metadata": {},
   "source": [
    "# **Dictionary**"
   ]
  },
  {
   "cell_type": "code",
   "execution_count": null,
   "metadata": {},
   "outputs": [],
   "source": [
    "{\n",
    "  key1:value1,\n",
    "  key2:value2,\n",
    "  key3:value3,\n",
    "  ...\n",
    "}\n",
    "\n",
    "# always start and with { }\n",
    "# key and values \n",
    "# : seperator between key and value\n",
    "# , seprator between key:value pair\n",
    "# key data types always should be int or string\n",
    "# value data types can be any types"
   ]
  },
  {
   "cell_type": "code",
   "execution_count": null,
   "metadata": {},
   "outputs": [
    {
     "data": {
      "text/plain": [
       "'MSDS'"
      ]
     },
     "execution_count": 2,
     "metadata": {},
     "output_type": "execute_result"
    }
   ],
   "source": [
    "#    0       1      2   3      4\n",
    "a=['Bilal','Arif',30,'MSDS',['AI',\"ML\",\"cloud computing\"]]\n",
    "# we will replace indexes with keys\n",
    "a[3]"
   ]
  },
  {
   "cell_type": "code",
   "execution_count": null,
   "metadata": {},
   "outputs": [
    {
     "data": {
      "text/plain": [
       "{'name': 'Bilal',\n",
       " 'fname': 'Arif',\n",
       " 'age': 30,\n",
       " 'qualification': 'BSE',\n",
       " 'skills': ['AI', 'ML', 'cloud computing'],\n",
       " 0: 'Pakistan'}"
      ]
     },
     "execution_count": 4,
     "metadata": {},
     "output_type": "execute_result"
    }
   ],
   "source": [
    "data = {\n",
    "    'name':'Bilal',\n",
    "    'fname':'Arif',\n",
    "    'age':30,\n",
    "    'qualification':'BSE',\n",
    "    'skills':['AI',\"ML\",'cloud computing'],\n",
    "    0:\"Pakistan\"\n",
    "}\n",
    "data"
   ]
  },
  {
   "cell_type": "markdown",
   "metadata": {},
   "source": [
    "## How to access value from dictionary\n",
    "* dictname['key']\n"
   ]
  },
  {
   "cell_type": "code",
   "execution_count": null,
   "metadata": {},
   "outputs": [
    {
     "name": "stdout",
     "output_type": "stream",
     "text": [
      "<class 'dict'>\n"
     ]
    }
   ],
   "source": [
    "data = {\n",
    "    'name':'Bilal',\n",
    "    'fname':'Arif',\n",
    "    'age':30,\n",
    "    'qualification':'BSE',\n",
    "    'skills':['AI',\"ML\",'cloud computing'],\n",
    "    0:\"Pakistan\"\n",
    "}\n",
    "print(type(data))\n"
   ]
  },
  {
   "cell_type": "code",
   "execution_count": null,
   "metadata": {},
   "outputs": [
    {
     "data": {
      "text/plain": [
       "'Bilal'"
      ]
     },
     "execution_count": 7,
     "metadata": {},
     "output_type": "execute_result"
    }
   ],
   "source": [
    "data = {\n",
    "    'name':'Bilal',\n",
    "    'fname':'Arif',\n",
    "    'age':30,\n",
    "    'qualification':'BSE',\n",
    "    'skills':['AI',\"ML\",'cloud computing'],\n",
    "    0:\"Pakistan\"\n",
    "}\n",
    "\n",
    "data['name']"
   ]
  },
  {
   "cell_type": "code",
   "execution_count": null,
   "metadata": {},
   "outputs": [
    {
     "data": {
      "text/plain": [
       "'Pakistan'"
      ]
     },
     "execution_count": 7,
     "metadata": {},
     "output_type": "execute_result"
    }
   ],
   "source": [
    "data[0]"
   ]
  },
  {
   "cell_type": "code",
   "execution_count": null,
   "metadata": {},
   "outputs": [
    {
     "data": {
      "text/plain": [
       "{'names': ['Bilal', 'Ahmed', 'Taha'],\n",
       " 'fnames': ['Ari', 'Raza', 'Sohail'],\n",
       " 'courses': ['AI', 'ML', 'DS']}"
      ]
     },
     "execution_count": 8,
     "metadata": {},
     "output_type": "execute_result"
    }
   ],
   "source": [
    "data = {\n",
    "    'names':['Bilal',\"Ahmed\",\"Taha\"],\n",
    "    'fnames':['Ari',\"Raza\",\"Sohail\"],\n",
    "    'courses':['AI',\"ML\",\"DS\"]\n",
    "}\n",
    "data"
   ]
  },
  {
   "cell_type": "code",
   "execution_count": null,
   "metadata": {},
   "outputs": [
    {
     "data": {
      "text/html": [
       "<div>\n",
       "<style scoped>\n",
       "    .dataframe tbody tr th:only-of-type {\n",
       "        vertical-align: middle;\n",
       "    }\n",
       "\n",
       "    .dataframe tbody tr th {\n",
       "        vertical-align: top;\n",
       "    }\n",
       "\n",
       "    .dataframe thead th {\n",
       "        text-align: right;\n",
       "    }\n",
       "</style>\n",
       "<table border=\"1\" class=\"dataframe\">\n",
       "  <thead>\n",
       "    <tr style=\"text-align: right;\">\n",
       "      <th></th>\n",
       "      <th>names</th>\n",
       "      <th>fnames</th>\n",
       "      <th>courses</th>\n",
       "    </tr>\n",
       "  </thead>\n",
       "  <tbody>\n",
       "    <tr>\n",
       "      <th>0</th>\n",
       "      <td>Bilal</td>\n",
       "      <td>Ari</td>\n",
       "      <td>AI</td>\n",
       "    </tr>\n",
       "    <tr>\n",
       "      <th>1</th>\n",
       "      <td>Ahmed</td>\n",
       "      <td>Raza</td>\n",
       "      <td>ML</td>\n",
       "    </tr>\n",
       "    <tr>\n",
       "      <th>2</th>\n",
       "      <td>Taha</td>\n",
       "      <td>Sohail</td>\n",
       "      <td>DS</td>\n",
       "    </tr>\n",
       "  </tbody>\n",
       "</table>\n",
       "</div>"
      ],
      "text/plain": [
       "   names  fnames courses\n",
       "0  Bilal     Ari      AI\n",
       "1  Ahmed    Raza      ML\n",
       "2   Taha  Sohail      DS"
      ]
     },
     "execution_count": 9,
     "metadata": {},
     "output_type": "execute_result"
    }
   ],
   "source": [
    "import pandas as pd\n",
    "\n",
    "df = pd.DataFrame(data)\n",
    "df"
   ]
  },
  {
   "cell_type": "code",
   "execution_count": null,
   "metadata": {},
   "outputs": [
    {
     "data": {
      "text/plain": [
       "{'name': 'Muhammad Hamza Ali AI student', 'fname': 'Aslam', 'course': 'A.I'}"
      ]
     },
     "execution_count": 14,
     "metadata": {},
     "output_type": "execute_result"
    }
   ],
   "source": [
    "data = {}\n",
    "\n",
    "data['name'] = \"Muhammad Hamza\" # add key value1\n",
    "data['fname'] = \"Arif\" # add key value 2\n",
    "data['course'] = \"A.I\" # \n",
    "data['name'] = \"Muhammad Hamza Ali\"\n",
    "data['name'] = data['name']+\" AI student\"\n",
    "\n",
    "data"
   ]
  },
  {
   "cell_type": "code",
   "execution_count": null,
   "metadata": {},
   "outputs": [
    {
     "data": {
      "text/plain": [
       "'A.I'"
      ]
     },
     "execution_count": 15,
     "metadata": {},
     "output_type": "execute_result"
    }
   ],
   "source": [
    "data['course']"
   ]
  },
  {
   "cell_type": "code",
   "execution_count": null,
   "metadata": {},
   "outputs": [
    {
     "data": {
      "text/plain": [
       "['__class__',\n",
       " '__contains__',\n",
       " '__delattr__',\n",
       " '__delitem__',\n",
       " '__dir__',\n",
       " '__doc__',\n",
       " '__eq__',\n",
       " '__format__',\n",
       " '__ge__',\n",
       " '__getattribute__',\n",
       " '__getitem__',\n",
       " '__gt__',\n",
       " '__hash__',\n",
       " '__init__',\n",
       " '__init_subclass__',\n",
       " '__iter__',\n",
       " '__le__',\n",
       " '__len__',\n",
       " '__lt__',\n",
       " '__ne__',\n",
       " '__new__',\n",
       " '__reduce__',\n",
       " '__reduce_ex__',\n",
       " '__repr__',\n",
       " '__setattr__',\n",
       " '__setitem__',\n",
       " '__sizeof__',\n",
       " '__str__',\n",
       " '__subclasshook__',\n",
       " 'clear',\n",
       " 'copy',\n",
       " 'fromkeys',\n",
       " 'get',\n",
       " 'items',\n",
       " 'keys',\n",
       " 'pop',\n",
       " 'popitem',\n",
       " 'setdefault',\n",
       " 'update',\n",
       " 'values']"
      ]
     },
     "execution_count": 16,
     "metadata": {},
     "output_type": "execute_result"
    }
   ],
   "source": [
    "dir(data)"
   ]
  },
  {
   "cell_type": "code",
   "execution_count": null,
   "metadata": {},
   "outputs": [
    {
     "name": "stdout",
     "output_type": "stream",
     "text": [
      "{'name': 'Muhammad Hamza Ali AI student', 'fname': 'Aslam', 'course': 'A.I'}\n",
      "{}\n"
     ]
    }
   ],
   "source": [
    "data = {}\n",
    "\n",
    "data['name'] = \"Muhammad Hamza\" # add key value1\n",
    "data['fname'] = \"Arif\" # add key value 2\n",
    "data['course'] = \"A.I\" # \n",
    "data['name'] = \"Muhammad Hamza Ali\"\n",
    "data['name'] = data['name']+\" AI student\"\n",
    "\n",
    "print(data)\n",
    "data.clear() # clear/empty but oject exist \n",
    "print(data)"
   ]
  },
  {
   "cell_type": "code",
   "execution_count": null,
   "metadata": {},
   "outputs": [
    {
     "name": "stdout",
     "output_type": "stream",
     "text": [
      "{'name': 'Muhammad Hamza Ali AI student', 'fname': 'Aslam', 'course': 'A.I'}\n"
     ]
    },
    {
     "ename": "NameError",
     "evalue": "name 'data' is not defined",
     "output_type": "error",
     "traceback": [
      "\u001b[0;31m----------------------------------------------------------------------\u001b[0m",
      "\u001b[0;31mNameError\u001b[0m                            Traceback (most recent call last)",
      "\u001b[0;32m<ipython-input-19-c691dce5e3f9>\u001b[0m in \u001b[0;36m<module>\u001b[0;34m\u001b[0m\n\u001b[1;32m      9\u001b[0m \u001b[0mprint\u001b[0m\u001b[0;34m(\u001b[0m\u001b[0mdata\u001b[0m\u001b[0;34m)\u001b[0m\u001b[0;34m\u001b[0m\u001b[0;34m\u001b[0m\u001b[0m\n\u001b[1;32m     10\u001b[0m \u001b[0;32mdel\u001b[0m \u001b[0mdata\u001b[0m \u001b[0;31m# delete object\u001b[0m\u001b[0;34m\u001b[0m\u001b[0;34m\u001b[0m\u001b[0m\n\u001b[0;32m---> 11\u001b[0;31m \u001b[0mprint\u001b[0m\u001b[0;34m(\u001b[0m\u001b[0mdata\u001b[0m\u001b[0;34m)\u001b[0m\u001b[0;34m\u001b[0m\u001b[0;34m\u001b[0m\u001b[0m\n\u001b[0m",
      "\u001b[0;31mNameError\u001b[0m: name 'data' is not defined"
     ]
    }
   ],
   "source": [
    "data = {}\n",
    "\n",
    "data['name'] = \"Muhammad Hamza\" # add key value1\n",
    "data['fname'] = \"Arif\" # add key value 2\n",
    "data['course'] = \"A.I\" # \n",
    "data['name'] = \"Muhammad Hamza Ali\"\n",
    "data['name'] = data['name']+\" AI student\"\n",
    "\n",
    "print(data)\n",
    "del data # delete object\n",
    "print(data)"
   ]
  },
  {
   "cell_type": "code",
   "execution_count": 2,
   "metadata": {
    "scrolled": true
   },
   "outputs": [
    {
     "name": "stdout",
     "output_type": "stream",
     "text": [
      "{'name': 'Hamza', 'fname': 'Arif', 'age': 30}\n",
      "{'name': 'Hamza', 'fname': 'Arif', 'age': 30}\n",
      "{'name': 'Hamza', 'fname': 'Arif', 'age': 30}\n",
      "{'name': 'Hamza', 'fname': 'Arif', 'age': 30}\n"
     ]
    }
   ],
   "source": [
    "data = {\n",
    "    'name':'Bilal',\n",
    "    'fname':'Arif',\n",
    "    'age':30,\n",
    "    \n",
    "}\n",
    "\n",
    "data1 = data # shallow copy\n",
    "data2 = data\n",
    "data3 = data\n",
    "\n",
    "data2['name']=\"Hamza\"\n",
    "\n",
    "print(data)\n",
    "print(data1)\n",
    "print(data2)\n",
    "print(data3)"
   ]
  },
  {
   "cell_type": "code",
   "execution_count": 3,
   "metadata": {},
   "outputs": [
    {
     "name": "stdout",
     "output_type": "stream",
     "text": [
      "{'name': 'Bilal', 'fname': 'Arif', 'age': 30}\n",
      "{'name': 'Bilal Arif', 'fname': 'Arif', 'age': 30}\n"
     ]
    }
   ],
   "source": [
    "data = {\n",
    "    'name':'Bilal',\n",
    "    'fname':'Arif',\n",
    "    'age':30,\n",
    "}\n",
    "\n",
    "data1 = data.copy() # deep copy\n",
    "\n",
    "data1['name']=\"Bilal Arif\"\n",
    "\n",
    "print(data)\n",
    "print(data1)"
   ]
  },
  {
   "cell_type": "markdown",
   "metadata": {},
   "source": [
    "### from keys"
   ]
  },
  {
   "cell_type": "code",
   "execution_count": null,
   "metadata": {},
   "outputs": [
    {
     "data": {
      "text/plain": [
       "{'id': None,\n",
       " 'name': None,\n",
       " 'fname': None,\n",
       " 'course': None,\n",
       " 'timing': None,\n",
       " 'address': None}"
      ]
     },
     "execution_count": 25,
     "metadata": {},
     "output_type": "execute_result"
    }
   ],
   "source": [
    "keys = ['id','name','fname','course','timing','address']\n",
    "\n",
    "dict.fromkeys(keys)"
   ]
  },
  {
   "cell_type": "code",
   "execution_count": null,
   "metadata": {},
   "outputs": [
    {
     "data": {
      "text/plain": [
       "{'id': 'empty', 'name': 'empty', 'fname': 'empty'}"
      ]
     },
     "execution_count": 27,
     "metadata": {},
     "output_type": "execute_result"
    }
   ],
   "source": [
    "keys = ['id','name','fname']\n",
    "\n",
    "\n",
    "dict.fromkeys(keys,'empty')"
   ]
  },
  {
   "cell_type": "markdown",
   "metadata": {},
   "source": [
    "### get"
   ]
  },
  {
   "cell_type": "code",
   "execution_count": null,
   "metadata": {},
   "outputs": [
    {
     "ename": "KeyError",
     "evalue": "'contact'",
     "output_type": "error",
     "traceback": [
      "\u001b[1;31m---------------------------------------------------------------------------\u001b[0m",
      "\u001b[1;31mKeyError\u001b[0m                                  Traceback (most recent call last)",
      "\u001b[1;32m<ipython-input-10-cfd618371b44>\u001b[0m in \u001b[0;36m<module>\u001b[1;34m\u001b[0m\n\u001b[0;32m      8\u001b[0m }\n\u001b[0;32m      9\u001b[0m \u001b[1;33m\u001b[0m\u001b[0m\n\u001b[1;32m---> 10\u001b[1;33m \u001b[0mdata\u001b[0m\u001b[1;33m[\u001b[0m\u001b[1;34m'contact'\u001b[0m\u001b[1;33m]\u001b[0m\u001b[1;33m\u001b[0m\u001b[1;33m\u001b[0m\u001b[0m\n\u001b[0m",
      "\u001b[1;31mKeyError\u001b[0m: 'contact'"
     ]
    }
   ],
   "source": [
    "data = {\n",
    "    'name':'Bilal',\n",
    "    'fname':'Arif',\n",
    "    'age':30,\n",
    "    'qualification':'BSE',\n",
    "    'skills':['AI',\"ML\",'cloud computing'],\n",
    "    0:\"Pakistan\"\n",
    "}\n",
    "\n",
    "data['contact']        # if the key is not present it will give us error to avoid this we use get function"
   ]
  },
  {
   "cell_type": "code",
   "execution_count": null,
   "metadata": {},
   "outputs": [
    {
     "data": {
      "text/plain": [
       "'Bilal'"
      ]
     },
     "execution_count": 11,
     "metadata": {},
     "output_type": "execute_result"
    }
   ],
   "source": [
    "data = {\n",
    "    'name':'Bilal',\n",
    "    'fname':'Arif',\n",
    "    'age':30,\n",
    "    'qualification':'BSE',\n",
    "    'skills':['AI',\"ML\",'cloud computing'],\n",
    "    0:\"Pakistan\"\n",
    "}\n",
    "\n",
    "data.get('name')"
   ]
  },
  {
   "cell_type": "code",
   "execution_count": null,
   "metadata": {},
   "outputs": [],
   "source": [
    "data.get('contact')"
   ]
  },
  {
   "cell_type": "code",
   "execution_count": null,
   "metadata": {},
   "outputs": [
    {
     "data": {
      "text/plain": [
       "'not available'"
      ]
     },
     "execution_count": 35,
     "metadata": {},
     "output_type": "execute_result"
    }
   ],
   "source": [
    "data.get('contact',\"not available\")"
   ]
  },
  {
   "cell_type": "code",
   "execution_count": null,
   "metadata": {},
   "outputs": [
    {
     "data": {
      "text/plain": [
       "{'name': 'Bilal',\n",
       " 'fname': 'Arif',\n",
       " 'age': 30,\n",
       " 'qualification': 'BSE',\n",
       " 'skills': ['AI', 'ML', 'cloud computing'],\n",
       " 0: 'Pakistan'}"
      ]
     },
     "execution_count": 12,
     "metadata": {},
     "output_type": "execute_result"
    }
   ],
   "source": [
    "data"
   ]
  },
  {
   "cell_type": "markdown",
   "metadata": {},
   "source": [
    "# item, keys, values"
   ]
  },
  {
   "cell_type": "code",
   "execution_count": null,
   "metadata": {},
   "outputs": [
    {
     "data": {
      "text/plain": [
       "{'name': 'Bilal', 'fname': 'Arif', 'age': 30, 'qualification': 'BSE'}"
      ]
     },
     "execution_count": 13,
     "metadata": {},
     "output_type": "execute_result"
    }
   ],
   "source": [
    "data = {\n",
    "    'name':'Bilal',\n",
    "    'fname':'Arif',\n",
    "    'age':30,\n",
    "    'qualification':'BSE',\n",
    "\n",
    "}\n",
    "data"
   ]
  },
  {
   "cell_type": "code",
   "execution_count": null,
   "metadata": {},
   "outputs": [
    {
     "data": {
      "text/plain": [
       "dict_items([('name', 'Bilal'), ('fname', 'Arif'), ('age', 30), ('qualification', 'BSE')])"
      ]
     },
     "execution_count": 14,
     "metadata": {},
     "output_type": "execute_result"
    }
   ],
   "source": [
    "data.items()"
   ]
  },
  {
   "cell_type": "code",
   "execution_count": 17,
   "metadata": {},
   "outputs": [
    {
     "data": {
      "text/plain": [
       "dict_keys(['name', 'fname', 'age', 'qualification'])"
      ]
     },
     "execution_count": 17,
     "metadata": {},
     "output_type": "execute_result"
    }
   ],
   "source": [
    "data.keys()"
   ]
  },
  {
   "cell_type": "code",
   "execution_count": 18,
   "metadata": {},
   "outputs": [
    {
     "data": {
      "text/plain": [
       "dict_values(['Bilal', 'Arif', 30, 'BSE'])"
      ]
     },
     "execution_count": 18,
     "metadata": {},
     "output_type": "execute_result"
    }
   ],
   "source": [
    "data.values()"
   ]
  },
  {
   "cell_type": "code",
   "execution_count": 19,
   "metadata": {},
   "outputs": [
    {
     "name": "stdout",
     "output_type": "stream",
     "text": [
      "Bilal\n",
      "Arif\n",
      "30\n",
      "BSE\n"
     ]
    }
   ],
   "source": [
    "for v in data.values():\n",
    "    print(v)"
   ]
  },
  {
   "cell_type": "code",
   "execution_count": null,
   "metadata": {},
   "outputs": [
    {
     "name": "stdout",
     "output_type": "stream",
     "text": [
      "name\n",
      "fname\n",
      "age\n",
      "qualification\n"
     ]
    }
   ],
   "source": [
    "for k in data.keys():\n",
    "    print(k)"
   ]
  },
  {
   "cell_type": "code",
   "execution_count": 35,
   "metadata": {},
   "outputs": [
    {
     "name": "stdout",
     "output_type": "stream",
     "text": [
      "Bilal\n",
      "30\n"
     ]
    }
   ],
   "source": [
    "\n",
    "for k in ['name','age']:\n",
    "    print(data[k])    \n",
    "\n"
   ]
  },
  {
   "cell_type": "code",
   "execution_count": 34,
   "metadata": {},
   "outputs": [
    {
     "name": "stdout",
     "output_type": "stream",
     "text": [
      "50\n",
      "20\n"
     ]
    }
   ],
   "source": [
    "a = 20# global\n",
    "\n",
    "def abc():\n",
    "    a = 50 #local\n",
    "    print(a)\n",
    "    \n",
    "    \n",
    "abc()\n",
    "print(a)"
   ]
  },
  {
   "cell_type": "code",
   "execution_count": null,
   "metadata": {},
   "outputs": [
    {
     "name": "stdout",
     "output_type": "stream",
     "text": [
      "('name', 'Qasim')\n",
      "('fname', 'Aslam')\n",
      "('age', 30)\n",
      "('qualification', 'MSDS')\n"
     ]
    }
   ],
   "source": [
    "for i in data.items():\n",
    "    print(i)"
   ]
  },
  {
   "cell_type": "code",
   "execution_count": 36,
   "metadata": {},
   "outputs": [
    {
     "name": "stdout",
     "output_type": "stream",
     "text": [
      "name Bilal\n",
      "fname Arif\n",
      "age 30\n",
      "qualification BSE\n"
     ]
    }
   ],
   "source": [
    "for k,v in data.items():\n",
    "    print(k,v)"
   ]
  },
  {
   "cell_type": "code",
   "execution_count": null,
   "metadata": {},
   "outputs": [
    {
     "name": "stdout",
     "output_type": "stream",
     "text": [
      "200 300\n"
     ]
    }
   ],
   "source": [
    "a, b = (200,300)   # unzipping tuple\n",
    "\n",
    "print(a,b)"
   ]
  },
  {
   "cell_type": "code",
   "execution_count": null,
   "metadata": {},
   "outputs": [
    {
     "data": {
      "text/plain": [
       "[1, 2, 3, 4, 5, 6, 7, 8, 9, 10]"
      ]
     },
     "execution_count": 44,
     "metadata": {},
     "output_type": "execute_result"
    }
   ],
   "source": [
    "list(range(1,11))"
   ]
  },
  {
   "cell_type": "code",
   "execution_count": null,
   "metadata": {},
   "outputs": [
    {
     "name": "stdout",
     "output_type": "stream",
     "text": [
      "1\n",
      "2\n",
      "3\n",
      "4\n",
      "5\n",
      "6\n",
      "7\n",
      "8\n",
      "9\n",
      "10\n"
     ]
    }
   ],
   "source": [
    "for num in [1, 2, 3, 4, 5, 6, 7, 8, 9, 10]:\n",
    "    print(num)"
   ]
  },
  {
   "cell_type": "code",
   "execution_count": null,
   "metadata": {},
   "outputs": [
    {
     "name": "stdout",
     "output_type": "stream",
     "text": [
      "Pakistan\n",
      "None\n"
     ]
    }
   ],
   "source": [
    "a = print('Pakistan')# non-return function\n",
    "print(a)"
   ]
  },
  {
   "cell_type": "code",
   "execution_count": null,
   "metadata": {},
   "outputs": [
    {
     "name": "stdout",
     "output_type": "stream",
     "text": [
      "8\n"
     ]
    }
   ],
   "source": [
    "a = len('Pakistan')# Return function\n",
    "print(a)"
   ]
  },
  {
   "cell_type": "code",
   "execution_count": null,
   "metadata": {},
   "outputs": [
    {
     "name": "stdout",
     "output_type": "stream",
     "text": [
      "<class 'str'>\n"
     ]
    }
   ],
   "source": [
    "a = type('Pakistan')# Return function\n",
    "print(a)"
   ]
  },
  {
   "cell_type": "markdown",
   "metadata": {},
   "source": [
    "### pop"
   ]
  },
  {
   "cell_type": "code",
   "execution_count": 38,
   "metadata": {},
   "outputs": [
    {
     "data": {
      "text/plain": [
       "{'fname': 'Arif', 'age': 30, 'qualification': 'BSE'}"
      ]
     },
     "execution_count": 38,
     "metadata": {},
     "output_type": "execute_result"
    }
   ],
   "source": [
    "data = {\n",
    "    'name':'Bilal',\n",
    "    'fname':'Arif',\n",
    "    'age':30,\n",
    "    'qualification':'BSE',\n",
    "\n",
    "}\n",
    "del data['name']\n",
    "data"
   ]
  },
  {
   "cell_type": "code",
   "execution_count": 39,
   "metadata": {},
   "outputs": [
    {
     "ename": "SyntaxError",
     "evalue": "invalid syntax (<ipython-input-39-dced643b3694>, line 8)",
     "output_type": "error",
     "traceback": [
      "\u001b[1;36m  File \u001b[1;32m\"<ipython-input-39-dced643b3694>\"\u001b[1;36m, line \u001b[1;32m8\u001b[0m\n\u001b[1;33m    a = del data['name']\u001b[0m\n\u001b[1;37m        ^\u001b[0m\n\u001b[1;31mSyntaxError\u001b[0m\u001b[1;31m:\u001b[0m invalid syntax\n"
     ]
    }
   ],
   "source": [
    "data = {\n",
    "    'name':'Bilal',\n",
    "    'fname':'Arif',\n",
    "    'age':30,\n",
    "    'qualification':'BSE',\n",
    "\n",
    "}\n",
    "a = del data['name']     # doesn't return or save the deleted key value\n",
    "print(a)\n",
    "data"
   ]
  },
  {
   "cell_type": "code",
   "execution_count": 40,
   "metadata": {},
   "outputs": [
    {
     "name": "stdout",
     "output_type": "stream",
     "text": [
      "Bilal\n",
      "{'fname': 'Arif', 'age': 30, 'qualification': 'BSE'}\n"
     ]
    }
   ],
   "source": [
    "data = {\n",
    "    'name':'Bilal',\n",
    "    'fname':'Arif',\n",
    "    'age':30,\n",
    "    'qualification':'BSE',\n",
    "\n",
    "}\n",
    "a = data.pop(\"name\")# return function\n",
    "print(a)\n",
    "print(data)"
   ]
  },
  {
   "cell_type": "code",
   "execution_count": 41,
   "metadata": {},
   "outputs": [
    {
     "name": "stdout",
     "output_type": "stream",
     "text": [
      "Bilal\n",
      "{'fname': 'Arif', 'qualification': 'BSE'}\n",
      "['Bilal', 30]\n"
     ]
    }
   ],
   "source": [
    "completed_list = []\n",
    "\n",
    "data = {\n",
    "    'name':'Bilal',\n",
    "    'fname':'Arif',\n",
    "    'age':30,\n",
    "    'qualification':'BSE',\n",
    "\n",
    "}\n",
    "a = data.pop(\"name\")# return function\n",
    "b = data.pop(\"age\")\n",
    "\n",
    "completed_list.append(a)\n",
    "completed_list.append(b)\n",
    "print(a)\n",
    "print(data)\n",
    "print(completed_list)"
   ]
  },
  {
   "cell_type": "code",
   "execution_count": 45,
   "metadata": {},
   "outputs": [
    {
     "name": "stdout",
     "output_type": "stream",
     "text": [
      "('qualification', 'BSE')\n",
      "{'name': 'Bilal', 'fname': 'Arif', 'age': 30}\n"
     ]
    }
   ],
   "source": [
    "data = {\n",
    "    'name':'Bilal',\n",
    "    'fname':'Arif',\n",
    "    'age':30,\n",
    "    'qualification':'BSE',\n",
    "\n",
    "}\n",
    "a = data.popitem()# return function always pop from last key value pair\n",
    "print(a)\n",
    "print(data)"
   ]
  }
 ],
 "metadata": {
  "kernelspec": {
   "display_name": "Python 3.8.3 ('base')",
   "language": "python",
   "name": "python3"
  },
  "language_info": {
   "codemirror_mode": {
    "name": "ipython",
    "version": 3
   },
   "file_extension": ".py",
   "mimetype": "text/x-python",
   "name": "python",
   "nbconvert_exporter": "python",
   "pygments_lexer": "ipython3",
   "version": "3.8.3"
  },
  "vscode": {
   "interpreter": {
    "hash": "40e7fd87be866a820be9a91eb0fa2276c412de6ebacf4a1baccc71ffce6225f8"
   }
  }
 },
 "nbformat": 4,
 "nbformat_minor": 4
}
