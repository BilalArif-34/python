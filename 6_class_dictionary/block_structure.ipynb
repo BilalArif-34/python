{
 "cells": [
  {
   "cell_type": "markdown",
   "metadata": {},
   "source": [
    "# controls structure\n",
    "* if\n",
    "    * else\n",
    "    * elif\n",
    "        and or not in\n",
    "* while\n",
    "    * break\n",
    "    * continue\n",
    "    * pass\n",
    "* for\n",
    "    * break\n",
    "    * continue\n",
    "    * pass\n",
    "* try\n",
    "    * except\n",
    "* def\n",
    "* class\n"
   ]
  },
  {
   "cell_type": "raw",
   "metadata": {},
   "source": [
    "https://realpython.com/lessons/reserved-keywords/"
   ]
  },
  {
   "cell_type": "markdown",
   "metadata": {},
   "source": [
    "# if \n",
    "\n",
    "```\n",
    "if True/False:\n",
    "    True_block\n",
    "```\n",
    "\n",
    "## if else\n",
    "```\n",
    "if True/False:\n",
    "    True_block\n",
    "else:\n",
    "    False_block\n",
    "```\n",
    "\n",
    "### if elif else\n",
    "\n",
    "```\n",
    "if True/False:\n",
    "    True_block\n",
    "elif True/False:\n",
    "    True_block\n",
    "elif True/False:\n",
    "    True_block\n",
    "else:\n",
    "    False_block\n",
    "```"
   ]
  },
  {
   "cell_type": "markdown",
   "metadata": {},
   "source": [
    "# if \n",
    "\n",
    "```\n",
    "if True/False:\n",
    "    True_block\n",
    "```"
   ]
  },
  {
   "cell_type": "code",
   "execution_count": 1,
   "metadata": {},
   "outputs": [
    {
     "name": "stdout",
     "output_type": "stream",
     "text": [
      "Pakistan zinda bad\n"
     ]
    }
   ],
   "source": [
    "if True:\n",
    "    print(\"Pakistan zinda bad\")"
   ]
  },
  {
   "cell_type": "code",
   "execution_count": 2,
   "metadata": {},
   "outputs": [],
   "source": [
    "if False:\n",
    "    print(\"Pakistan zinda bad\")"
   ]
  },
  {
   "cell_type": "markdown",
   "metadata": {},
   "source": [
    "## if else\n",
    "```\n",
    "if True/False:\n",
    "    True_block\n",
    "else:\n",
    "    False_block\n",
    "```"
   ]
  },
  {
   "cell_type": "code",
   "execution_count": 3,
   "metadata": {},
   "outputs": [
    {
     "name": "stdout",
     "output_type": "stream",
     "text": [
      "Pakistan\n"
     ]
    }
   ],
   "source": [
    "if True:\n",
    "    print(\"Pakistan\")# True block\n",
    "else:\n",
    "    print(\"USA\")# False block"
   ]
  },
  {
   "cell_type": "code",
   "execution_count": null,
   "metadata": {},
   "outputs": [],
   "source": [
    "print(\"Pakistan\")# True block"
   ]
  },
  {
   "cell_type": "code",
   "execution_count": 4,
   "metadata": {},
   "outputs": [
    {
     "name": "stdout",
     "output_type": "stream",
     "text": [
      "USA\n"
     ]
    }
   ],
   "source": [
    "if False:\n",
    "    print(\"Pakistan\")# True block\n",
    "else:\n",
    "    print(\"USA\")# False block"
   ]
  },
  {
   "cell_type": "code",
   "execution_count": 5,
   "metadata": {},
   "outputs": [
    {
     "name": "stdout",
     "output_type": "stream",
     "text": [
      "Enter userAdmin\n"
     ]
    },
    {
     "data": {
      "text/plain": [
       "'Admin'"
      ]
     },
     "execution_count": 5,
     "metadata": {},
     "output_type": "execute_result"
    }
   ],
   "source": [
    "user = input(\"Enter user\")\n",
    "\n",
    "user"
   ]
  },
  {
   "cell_type": "code",
   "execution_count": 5,
   "metadata": {},
   "outputs": [
    {
     "data": {
      "text/plain": [
       "True"
      ]
     },
     "execution_count": 5,
     "metadata": {},
     "output_type": "execute_result"
    }
   ],
   "source": [
    "user = input(\"Enter user\")\n",
    "\n",
    "user == \"Admin\" # return "
   ]
  },
  {
   "cell_type": "code",
   "execution_count": 10,
   "metadata": {},
   "outputs": [
    {
     "name": "stdout",
     "output_type": "stream",
     "text": [
      "Enter userAdmin\n",
      "Valid User\n"
     ]
    }
   ],
   "source": [
    "user = input(\"Enter user\")\n",
    "\n",
    "if user == \"Admin\":\n",
    "    print(\"Valid User\")"
   ]
  },
  {
   "cell_type": "code",
   "execution_count": 11,
   "metadata": {},
   "outputs": [
    {
     "name": "stdout",
     "output_type": "stream",
     "text": [
      "Enter userAsif\n",
      "Invalid user name\n"
     ]
    }
   ],
   "source": [
    "user = input(\"Enter user\")\n",
    "\n",
    "if user == \"Admin\":\n",
    "    print(\"Valid User\")\n",
    "else:\n",
    "    print(\"Invalid user name\")"
   ]
  },
  {
   "cell_type": "code",
   "execution_count": 13,
   "metadata": {},
   "outputs": [
    {
     "name": "stdout",
     "output_type": "stream",
     "text": [
      "Enter userAdmin\n",
      "Valid User\n",
      "Welcome\n",
      "Congratulation!\n"
     ]
    }
   ],
   "source": [
    "user = input(\"Enter user\")\n",
    "\n",
    "if user == \"Admin\":\n",
    "    print(\"Valid User\")\n",
    "    print(\"Welcome\")\n",
    "    print(\"Congratulation!\")\n",
    "else:\n",
    "    print(\"Invalid user name\")"
   ]
  },
  {
   "cell_type": "markdown",
   "metadata": {},
   "source": [
    "### if elif else\n",
    "\n",
    "```\n",
    "if True/False:\n",
    "    True_block\n",
    "elif True/False:\n",
    "    True_block\n",
    "elif True/False:\n",
    "    True_block\n",
    "else:\n",
    "    False_block\n",
    "```"
   ]
  },
  {
   "cell_type": "code",
   "execution_count": 15,
   "metadata": {},
   "outputs": [
    {
     "name": "stdout",
     "output_type": "stream",
     "text": [
      "89\n",
      "A+\n"
     ]
    }
   ],
   "source": [
    "per = 89\n",
    "grade = \"\"\n",
    "\n",
    "if per >= 80:\n",
    "    grade = \"A+\"\n",
    "elif per >= 70:\n",
    "    grade = \"A\"\n",
    "elif per >= 60:\n",
    "    grade = \"B\"\n",
    "elif per >= 50:\n",
    "    grade = \"C\"\n",
    "else:\n",
    "    grade = \"Fail\"\n",
    "    \n",
    "print(per)\n",
    "print(grade)"
   ]
  },
  {
   "cell_type": "code",
   "execution_count": 18,
   "metadata": {},
   "outputs": [
    {
     "name": "stdout",
     "output_type": "stream",
     "text": [
      "percentage: 70\n",
      "70\n",
      "A\n"
     ]
    }
   ],
   "source": [
    "per = int(input(\"percentage: \"))\n",
    "grade = \"\"\n",
    "\n",
    "if per >= 80:\n",
    "    grade = \"A+\"\n",
    "elif per >= 70:\n",
    "    grade = \"A\"\n",
    "elif per >= 60:\n",
    "    grade = \"B\"\n",
    "elif per >= 50:\n",
    "    grade = \"C\"\n",
    "else:\n",
    "    grade = \"Fail\"\n",
    "    \n",
    "print(per)\n",
    "print(grade)"
   ]
  },
  {
   "cell_type": "code",
   "execution_count": 21,
   "metadata": {},
   "outputs": [
    {
     "name": "stdout",
     "output_type": "stream",
     "text": [
      "abc88\n"
     ]
    },
    {
     "data": {
      "text/plain": [
       "'88'"
      ]
     },
     "execution_count": 21,
     "metadata": {},
     "output_type": "execute_result"
    }
   ],
   "source": [
    "input(\"abc\")"
   ]
  },
  {
   "cell_type": "code",
   "execution_count": 20,
   "metadata": {},
   "outputs": [
    {
     "name": "stdout",
     "output_type": "stream",
     "text": [
      "abc88\n"
     ]
    },
    {
     "data": {
      "text/plain": [
       "88"
      ]
     },
     "execution_count": 20,
     "metadata": {},
     "output_type": "execute_result"
    }
   ],
   "source": [
    "int(input(\"abc\"))\n"
   ]
  },
  {
   "cell_type": "code",
   "execution_count": 22,
   "metadata": {},
   "outputs": [
    {
     "data": {
      "text/plain": [
       "'1,3,6,abc,pakistan'"
      ]
     },
     "execution_count": 22,
     "metadata": {},
     "output_type": "execute_result"
    }
   ],
   "source": [
    "a = \"1,3,6,abc,pakistan\"\n",
    "a"
   ]
  },
  {
   "cell_type": "code",
   "execution_count": 23,
   "metadata": {},
   "outputs": [
    {
     "data": {
      "text/plain": [
       "['1', '3', '6', 'abc', 'pakistan']"
      ]
     },
     "execution_count": 23,
     "metadata": {},
     "output_type": "execute_result"
    }
   ],
   "source": [
    "a.split(\",\")"
   ]
  },
  {
   "cell_type": "code",
   "execution_count": 24,
   "metadata": {},
   "outputs": [
    {
     "data": {
      "text/plain": [
       "['pakistan', 'zinda', 'bad', 'we', 'love', 'our', 'country!']"
      ]
     },
     "execution_count": 24,
     "metadata": {},
     "output_type": "execute_result"
    }
   ],
   "source": [
    "\"pakistan zinda bad we love our country!\".split(\" \")"
   ]
  },
  {
   "cell_type": "code",
   "execution_count": 27,
   "metadata": {},
   "outputs": [
    {
     "data": {
      "text/plain": [
       "['pakistan zinda bad ', ' our country!']"
      ]
     },
     "execution_count": 27,
     "metadata": {},
     "output_type": "execute_result"
    }
   ],
   "source": [
    "\"pakistan zinda bad we love our country!\".split(\"we love\")"
   ]
  },
  {
   "cell_type": "code",
   "execution_count": 25,
   "metadata": {},
   "outputs": [
    {
     "name": "stdout",
     "output_type": "stream",
     "text": [
      "Pakistan\n"
     ]
    }
   ],
   "source": [
    "a = \"Pakistan\"\n",
    "print(a)"
   ]
  },
  {
   "cell_type": "code",
   "execution_count": 6,
   "metadata": {},
   "outputs": [
    {
     "data": {
      "text/plain": [
       "['Bilal Arif', ' Muhammad Arif', ' BSE', ' AI']"
      ]
     },
     "execution_count": 6,
     "metadata": {},
     "output_type": "execute_result"
    }
   ],
   "source": [
    "\"Bilal Arif; Muhammad Arif; BSE; AI\".split(\";\")"
   ]
  }
 ],
 "metadata": {
  "kernelspec": {
   "display_name": "Python 3.8.3 ('base')",
   "language": "python",
   "name": "python3"
  },
  "language_info": {
   "codemirror_mode": {
    "name": "ipython",
    "version": 3
   },
   "file_extension": ".py",
   "mimetype": "text/x-python",
   "name": "python",
   "nbconvert_exporter": "python",
   "pygments_lexer": "ipython3",
   "version": "3.8.3"
  },
  "vscode": {
   "interpreter": {
    "hash": "40e7fd87be866a820be9a91eb0fa2276c412de6ebacf4a1baccc71ffce6225f8"
   }
  }
 },
 "nbformat": 4,
 "nbformat_minor": 4
}
