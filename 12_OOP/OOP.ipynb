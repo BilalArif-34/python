{
 "cells": [
  {
   "cell_type": "markdown",
   "metadata": {},
   "source": [
    "# OOP\n",
    "* object\n",
    "    * everything in the world which has name that is called object\n",
    "        * Methods (function, procedure, sub routine)\n",
    "            * performe any action\n",
    "                * must be change some attribute\n",
    "                * or return something\n",
    "        * Attributes (properties, fields, characterstics)\n",
    "            * store some values for perticular time\n",
    " \n",
    " # Class\n",
    " * Blue print\n",
    " * Capitalize each word (ClassName)\n",
    " * constructor (Method)\n",
    "     * always call when we create new object\n"
   ]
  },
  {
   "cell_type": "markdown",
   "metadata": {},
   "source": [
    "## Linear programming"
   ]
  },
  {
   "cell_type": "code",
   "execution_count": 2,
   "metadata": {},
   "outputs": [],
   "source": [
    "ahsen_name = \"Muhammed Ahsen\"\n",
    "ahsen_fname= \"Muhammad Akram\"\n",
    "ahsen_education = \"BSE\"\n",
    "\n",
    "def ahsen_speak():pass\n",
    "def ahsen_eat():pass\n",
    "def ahsen_sleep():pass\n",
    "\n",
    "\n",
    "\n",
    "asim_name = \"Muhammad Asim\"\n",
    "asim_fname= \"Muhammad Akram\"\n",
    "asim_education = \"BSE\"\n",
    "\n",
    "def asim_speak():pass\n",
    "def asim_eat():pass\n",
    "def asim_sleep():pass\n",
    "\n",
    "\n",
    "asif_name = \"Muhammad Asif\"\n",
    "asif_fname= \"Muhammad Akram\"\n",
    "asif_education = \"BSE\"\n",
    "\n",
    "def asif_speak():pass\n",
    "def asif_eat():pass\n",
    "def asif_sleep():pass"
   ]
  },
  {
   "cell_type": "markdown",
   "metadata": {},
   "source": [
    "# OOP\n",
    "* compress code\n",
    "* less computing power/ less storage consume\n",
    "* code management too much simple"
   ]
  },
  {
   "cell_type": "markdown",
   "metadata": {},
   "source": [
    "# Class\n",
    " * Blue print/model/structe/template\n",
    " * Capitalize each word (ClassName) `class Class():pass`\n",
    " * constructor (Method)\n",
    "     * always call when we create new object\n",
    "     * old programming lanugages \n",
    "         * same function name as class\n",
    "     * Python\n",
    "         * `def __init__(self):`\n",
    "         * first argument:\n",
    "             * first argument should be any name\n",
    "                 * always keep this during creating time\n",
    "                 * but always ingore during calling\n",
    "                 * always manage each object with individual memory blocks\n",
    "                 * self\n",
    "                 * this\n",
    "                 * abc\n",
    "                 * xyz\n",
    "         * all attribute should be write in constructor body\n",
    "             * `self.attribute_name` (within a class)\n",
    "             \n",
    " * destructor (method)\n",
    "     * always call when we delete object\n",
    "     \n",
    "\n",
    " * Method\n",
    " * Attribute\n",
    " * class variable"
   ]
  },
  {
   "cell_type": "code",
   "execution_count": 3,
   "metadata": {},
   "outputs": [],
   "source": [
    "class Student(): # class\n",
    "    def __init__(self, sid, sname): # constructor method\n",
    "        #self.attribute_name = constructor_local_variable\n",
    "        self.id = sid \n",
    "        self.name = sname # attribute\n",
    "        self.education = None # attribute\n",
    "        self.address = None # attribute\n",
    "        self.age = None # attribute\n",
    "        self.user = sname\n",
    "        self.password = \"123\"\n",
    "    \n",
    "    def login(self,user,pws): # Method\n",
    "        if self.user == user and self.password == pws:\n",
    "            return \"Valid User\"\n",
    "        else:\n",
    "            return \"Not Valid user\"\n",
    "        \n",
    "    def display_information(self): # method\n",
    "        cards = f\"\"\"\n",
    "        PIAIC Student Card\n",
    "        Registration No: {self.id}\n",
    "        Name: {self.name}\n",
    "        Education : {self.education}\n",
    "        \"\"\"\n",
    "        \n",
    "        return cards\n"
   ]
  },
  {
   "cell_type": "code",
   "execution_count": 4,
   "metadata": {},
   "outputs": [],
   "source": [
    "# ClassName(arg1,arg2,..) we ignore slef argument calling time\n",
    "\n",
    "s1 = Student(1,\"Muhammed Ahsen\") # create s1 new object\n",
    "s2 = Student(2,\"Asim\")# create s2 new object\n",
    "s3 = Student(3,\"Asif Khan\")# create s3 new object\n",
    "s4 = Student(4,\"Konain\")\n",
    "s5 = Student(5,\"Kamran\")"
   ]
  },
  {
   "cell_type": "code",
   "execution_count": 5,
   "metadata": {},
   "outputs": [
    {
     "name": "stdout",
     "output_type": "stream",
     "text": [
      "Muhammed Ahsen 1\n",
      "Asim 2\n",
      "Asif Khan 3\n",
      "Kamran 5\n"
     ]
    }
   ],
   "source": [
    "print(s1.name, s1.id) # call attributes values\n",
    "print(s2.name, s2.id) # object_name.attribute\n",
    "print(s3.name, s3.id)\n",
    "print(s5.name, s5.id)"
   ]
  },
  {
   "cell_type": "code",
   "execution_count": 6,
   "metadata": {},
   "outputs": [
    {
     "data": {
      "text/plain": [
       "'Valid User'"
      ]
     },
     "execution_count": 6,
     "metadata": {},
     "output_type": "execute_result"
    }
   ],
   "source": [
    "s1.login(\"Muhammed Ahsen\",\"123\")# call object methods\n",
    "#           object_name.method_name()"
   ]
  },
  {
   "cell_type": "code",
   "execution_count": 7,
   "metadata": {},
   "outputs": [
    {
     "data": {
      "text/plain": [
       "'Not Valid user'"
      ]
     },
     "execution_count": 7,
     "metadata": {},
     "output_type": "execute_result"
    }
   ],
   "source": [
    "s1.login(\"Asim\",\"12345\")"
   ]
  },
  {
   "cell_type": "code",
   "execution_count": 8,
   "metadata": {},
   "outputs": [
    {
     "data": {
      "text/plain": [
       "'Valid User'"
      ]
     },
     "execution_count": 8,
     "metadata": {},
     "output_type": "execute_result"
    }
   ],
   "source": [
    "s2.login(\"Asim\",\"123\")"
   ]
  },
  {
   "cell_type": "code",
   "execution_count": 9,
   "metadata": {},
   "outputs": [
    {
     "data": {
      "text/plain": [
       "'Not Valid user'"
      ]
     },
     "execution_count": 9,
     "metadata": {},
     "output_type": "execute_result"
    }
   ],
   "source": [
    "s2.login(\"Asim\",\"1222223\")"
   ]
  },
  {
   "cell_type": "code",
   "execution_count": 10,
   "metadata": {},
   "outputs": [
    {
     "name": "stdout",
     "output_type": "stream",
     "text": [
      "\n",
      "        PIAIC Student Card\n",
      "        Registration No: 1\n",
      "        Name: Muhammed Ahsen\n",
      "        Education : None\n",
      "        \n"
     ]
    }
   ],
   "source": [
    "print(s1.display_information())"
   ]
  },
  {
   "cell_type": "code",
   "execution_count": 11,
   "metadata": {},
   "outputs": [],
   "source": [
    "s1.education = \"BSE\""
   ]
  },
  {
   "cell_type": "code",
   "execution_count": 12,
   "metadata": {},
   "outputs": [
    {
     "name": "stdout",
     "output_type": "stream",
     "text": [
      "\n",
      "        PIAIC Student Card\n",
      "        Registration No: 1\n",
      "        Name: Muhammed Ahsen\n",
      "        Education : BSE\n",
      "        \n"
     ]
    }
   ],
   "source": [
    "print(s1.display_information())"
   ]
  },
  {
   "cell_type": "code",
   "execution_count": 13,
   "metadata": {},
   "outputs": [
    {
     "data": {
      "text/plain": [
       "['__class__',\n",
       " '__delattr__',\n",
       " '__dict__',\n",
       " '__dir__',\n",
       " '__doc__',\n",
       " '__eq__',\n",
       " '__format__',\n",
       " '__ge__',\n",
       " '__getattribute__',\n",
       " '__gt__',\n",
       " '__hash__',\n",
       " '__init__',\n",
       " '__init_subclass__',\n",
       " '__le__',\n",
       " '__lt__',\n",
       " '__module__',\n",
       " '__ne__',\n",
       " '__new__',\n",
       " '__reduce__',\n",
       " '__reduce_ex__',\n",
       " '__repr__',\n",
       " '__setattr__',\n",
       " '__sizeof__',\n",
       " '__str__',\n",
       " '__subclasshook__',\n",
       " '__weakref__',\n",
       " 'address',\n",
       " 'age',\n",
       " 'display_information',\n",
       " 'education',\n",
       " 'id',\n",
       " 'login',\n",
       " 'name',\n",
       " 'password',\n",
       " 'user']"
      ]
     },
     "execution_count": 13,
     "metadata": {},
     "output_type": "execute_result"
    }
   ],
   "source": [
    "dir(s1)"
   ]
  },
  {
   "cell_type": "code",
   "execution_count": 14,
   "metadata": {},
   "outputs": [
    {
     "name": "stdout",
     "output_type": "stream",
     "text": [
      "['address', 'age', 'education', 'id', 'login', 'name', 'password', 'user']\n",
      "['address', 'age', 'education', 'id', 'login', 'name', 'password', 'user']\n",
      "['address', 'age', 'education', 'id', 'login', 'name', 'password', 'user']\n",
      "['address', 'age', 'education', 'id', 'login', 'name', 'password', 'user']\n",
      "['address', 'age', 'education', 'id', 'login', 'name', 'password', 'user']\n"
     ]
    }
   ],
   "source": [
    "print([i for i in dir(s1) if \"_\" not in i])\n",
    "print([i for i in dir(s2) if \"_\" not in i])\n",
    "print([i for i in dir(s3) if \"_\" not in i])\n",
    "print([i for i in dir(s4) if \"_\" not in i])\n",
    "print([i for i in dir(s5) if \"_\" not in i])"
   ]
  },
  {
   "cell_type": "code",
   "execution_count": 15,
   "metadata": {},
   "outputs": [],
   "source": [
    "s1.password = \"abc123\""
   ]
  },
  {
   "cell_type": "code",
   "execution_count": 16,
   "metadata": {},
   "outputs": [
    {
     "name": "stdout",
     "output_type": "stream",
     "text": [
      "abc123\n"
     ]
    }
   ],
   "source": [
    "print(s1.password)"
   ]
  },
  {
   "cell_type": "markdown",
   "metadata": {},
   "source": [
    "# Class Variable\n",
    "* always create in class body\n",
    "* calling `ClassName.variable_name`\n",
    "* always same value value"
   ]
  },
  {
   "cell_type": "code",
   "execution_count": 17,
   "metadata": {},
   "outputs": [],
   "source": [
    "class Student(): # class\n",
    "    \n",
    "    counter = 0 # class variable\n",
    "    subject = \"Artificial Intelligence\"# class variable\n",
    "    time = \"11:19 am\"# class variable\n",
    "    \n",
    "    def __init__(self, sid, sname): # constructor method\n",
    "        #self.attribute_name = constructor_local_variable\n",
    "        self.id = sid \n",
    "        self.name = sname # attribute\n",
    "        self.education = None # attribute\n",
    "        self.address = None # attribute\n",
    "        self.age = None # attribute\n",
    "        self.user = sname\n",
    "        self.password = \"123\"\n",
    "        Student.counter += 1 # calling class variable\n",
    "    \n",
    "    def login(self,user,pws): # Method\n",
    "        if self.user == user and self.password == pws:\n",
    "            return \"Valid User\"\n",
    "        else:\n",
    "            return \"Not Valid user\"\n",
    "        \n",
    "    def display_information(self): # method\n",
    "        cards = f\"\"\"\n",
    "        PIAIC Student Card\n",
    "        Registration No: {self.id}\n",
    "        Name: {self.name}\n",
    "        Education : {self.education}\n",
    "        \"\"\"\n",
    "        \n",
    "        return cards\n"
   ]
  },
  {
   "cell_type": "code",
   "execution_count": 18,
   "metadata": {},
   "outputs": [
    {
     "name": "stdout",
     "output_type": "stream",
     "text": [
      "1 1 Artificial Intelligence\n",
      "2 2 Artificial Intelligence\n",
      "3 3 Artificial Intelligence\n",
      "4 4 Artificial Intelligence\n",
      "5 5 Artificial Intelligence\n"
     ]
    }
   ],
   "source": [
    "s1 = Student(1,\"Muhammed Ahsen\") # create s1 new object\n",
    "print(Student.counter, s1.counter, Student.subject)\n",
    "s2 = Student(2,\"Asim\")# create s2 new object\n",
    "print(Student.counter, s1.counter, Student.subject)\n",
    "s3 = Student(3,\"Asif Khan\")# create s3 new object\n",
    "print(Student.counter, s1.counter, Student.subject)\n",
    "s4 = Student(4,\"Konain\")\n",
    "print(Student.counter, s1.counter, Student.subject)\n",
    "s5 = Student(5,\"Kamran\")\n",
    "print(Student.counter, s1.counter, Student.subject)"
   ]
  },
  {
   "cell_type": "code",
   "execution_count": 19,
   "metadata": {},
   "outputs": [
    {
     "name": "stdout",
     "output_type": "stream",
     "text": [
      "11:19 am\n",
      "11:19 am\n",
      "11:19 am\n",
      "11:19 am\n",
      "11:19 am\n",
      "5\n",
      "Artificial Intelligence\n",
      "11:19 am\n"
     ]
    }
   ],
   "source": [
    "print(s1.time)\n",
    "print(s2.time)\n",
    "print(s3.time)\n",
    "print(s4.time)\n",
    "print(s5.time)\n",
    "\n",
    "print(Student.counter)\n",
    "print(Student.subject)\n",
    "print(Student.time)"
   ]
  }
 ],
 "metadata": {
  "kernelspec": {
   "display_name": "base",
   "language": "python",
   "name": "python3"
  },
  "language_info": {
   "codemirror_mode": {
    "name": "ipython",
    "version": 3
   },
   "file_extension": ".py",
   "mimetype": "text/x-python",
   "name": "python",
   "nbconvert_exporter": "python",
   "pygments_lexer": "ipython3",
   "version": "3.8.3"
  },
  "vscode": {
   "interpreter": {
    "hash": "40e7fd87be866a820be9a91eb0fa2276c412de6ebacf4a1baccc71ffce6225f8"
   }
  }
 },
 "nbformat": 4,
 "nbformat_minor": 4
}
